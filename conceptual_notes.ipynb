{
 "cells": [
  {
   "cell_type": "code",
   "execution_count": 1,
   "id": "99005dc3",
   "metadata": {},
   "outputs": [
    {
     "name": "stdout",
     "output_type": "stream",
     "text": [
      "Modified list (mutable): [1, 2, 3, 100]\n"
     ]
    }
   ],
   "source": [
    "def modify_list(lst):\n",
    "    # Appends 100 to the passed-in list (modifies original list)\n",
    "    lst.append(100)\n",
    "\n",
    "my_list = [1, 2, 3]\n",
    "modify_list(my_list)\n",
    "print(\"Modified list (mutable):\", my_list)  # [1, 2, 3, 100]"
   ]
  },
  {
   "cell_type": "code",
   "execution_count": 9,
   "id": "2b7f5911",
   "metadata": {},
   "outputs": [
    {
     "name": "stdout",
     "output_type": "stream",
     "text": [
      "List comprehension with condition - evens: [0, 1, 2, 3, 4, 5, 6, 7, 8, 9, 10, 11, 12, 13, 14, 15, 16, 17, 18, 19, 20, 21, 22, 23, 24, 25, 26, 27, 28, 29, 30, 31, 32, 33, 34, 35, 36, 37, 38, 39, 40, 41, 42, 43, 44, 45, 46, 47, 48, 49, 50, 51, 52, 53, 54, 55, 56, 57, 58, 59, 60, 61, 62, 63, 64, 65, 66, 67, 68, 69, 70, 71, 72, 73, 74, 75, 76, 77, 78, 79, 80, 81, 82, 83] \n",
      "\n"
     ]
    }
   ],
   "source": [
    "evens = [x for x in range(100) if x * 6 < 500]  # Even numbers from 0 to 9\n",
    "print(\"List comprehension with condition - evens:\", evens, \"\\n\")"
   ]
  },
  {
   "cell_type": "code",
   "execution_count": 13,
   "id": "2635920c",
   "metadata": {},
   "outputs": [
    {
     "data": {
      "text/plain": [
       "['i', 'e', 'f']"
      ]
     },
     "execution_count": 13,
     "metadata": {},
     "output_type": "execute_result"
    }
   ],
   "source": [
    "alphs = ['u', 'i', 'o', 'e', 'f', 'z']\n",
    "[x for x in alphs if x<'o' ]"
   ]
  },
  {
   "cell_type": "code",
   "execution_count": null,
   "id": "0569fa0e",
   "metadata": {},
   "outputs": [
    {
     "data": {
      "text/plain": [
       "[(1, 'b', 'o'), (2, 'a', 'z'), (3, 'c', 'i')]"
      ]
     },
     "execution_count": 23,
     "metadata": {},
     "output_type": "execute_result"
    }
   ],
   "source": [
    "pairs = [(1, 'b', 'o'), (2, 'a', 'z'), (3, 'c', 'i')]\n",
    "\n",
    "[x for x in pairs if x[2]<'z']"
   ]
  },
  {
   "cell_type": "code",
   "execution_count": 30,
   "id": "68d8fd8c",
   "metadata": {},
   "outputs": [
    {
     "name": "stdout",
     "output_type": "stream",
     "text": [
      "Factorial of 5 using reduce + lambda: 120\n"
     ]
    }
   ],
   "source": [
    "from functools import reduce\n",
    "factorial_5 = reduce(lambda x, y: x * y, range(1, 6))\n",
    "print(\"Factorial of 5 using reduce + lambda:\", factorial_5)  # 120"
   ]
  },
  {
   "cell_type": "code",
   "execution_count": 31,
   "id": "1e6a87e5",
   "metadata": {},
   "outputs": [
    {
     "name": "stdout",
     "output_type": "stream",
     "text": [
      "Found 768 in 10 steps (O(log n))\n",
      "1001 not found after 10 steps\n"
     ]
    },
    {
     "data": {
      "text/plain": [
       "-1"
      ]
     },
     "execution_count": 31,
     "metadata": {},
     "output_type": "execute_result"
    }
   ],
   "source": [
    "\n",
    "def binary_search(arr, target):\n",
    "    low = 0\n",
    "    high = len(arr) - 1\n",
    "    steps = 0  # Count how many times we cut the array\n",
    "\n",
    "    while low <= high:\n",
    "        steps += 1\n",
    "        mid = (low + high) // 2\n",
    "        if arr[mid] == target:\n",
    "            print(f\"Found {target} in {steps} steps (O(log n))\")\n",
    "            return mid\n",
    "        elif arr[mid] < target:\n",
    "            low = mid + 1\n",
    "        else:\n",
    "            high = mid - 1\n",
    "\n",
    "    print(f\"{target} not found after {steps} steps\")\n",
    "    return -1\n",
    "\n",
    "# Example usage\n",
    "sorted_list = list(range(1, 1001))  # Sorted list from 1 to 1000\n",
    "binary_search(sorted_list, 768)    # Should find it quickly using O(log n)\n",
    "binary_search(sorted_list, 1001)   # Should not find it, still log(n) steps"
   ]
  },
  {
   "cell_type": "code",
   "execution_count": 32,
   "id": "7b2e8d71",
   "metadata": {},
   "outputs": [
    {
     "name": "stdout",
     "output_type": "stream",
     "text": [
      "Found 768 in 10 steps (O(log n))\n",
      "1001 not found after 10 steps\n"
     ]
    },
    {
     "data": {
      "text/plain": [
       "-1"
      ]
     },
     "execution_count": 32,
     "metadata": {},
     "output_type": "execute_result"
    }
   ],
   "source": [
    "\n",
    "def binary_search(arr, target):\n",
    "    low = 0\n",
    "    high = len(arr) - 1\n",
    "    steps = 0  # Count how many times we cut the array\n",
    "\n",
    "    while low <= high:\n",
    "        steps += 1\n",
    "        mid = (low + high) // 2\n",
    "        if arr[mid] == target:\n",
    "            print(f\"Found {target} in {steps} steps (O(log n))\")\n",
    "            return mid\n",
    "        elif arr[mid] < target:\n",
    "            low = mid + 1\n",
    "        else:\n",
    "            high = mid - 1\n",
    "\n",
    "    print(f\"{target} not found after {steps} steps\")\n",
    "    return -1\n",
    "\n",
    "# Example usage\n",
    "sorted_list = list(range(1, 1001))  # Sorted list from 1 to 1000\n",
    "binary_search(sorted_list, 768)    # Should find it quickly using O(log n)\n",
    "\n",
    "binary_search(sorted_list, 1001)  "
   ]
  },
  {
   "cell_type": "code",
   "execution_count": 34,
   "id": "faffe8d3",
   "metadata": {},
   "outputs": [
    {
     "name": "stdout",
     "output_type": "stream",
     "text": [
      "\n",
      "=== HASH FUNCTION ===\n",
      "Hash of integer 42: 42\n",
      "Hash of string 'hello': -6334134639683079879\n",
      "Hash of tuple (1, 2): -3550055125485641917\n"
     ]
    }
   ],
   "source": [
    "print(\"\\n=== HASH FUNCTION ===\")\n",
    "print(\"Hash of integer 42:\", hash(42))\n",
    "print(\"Hash of string 'hello':\", hash(\"hello\"))\n",
    "print(\"Hash of tuple (1, 2):\", hash((1, 2)))"
   ]
  },
  {
   "cell_type": "code",
   "execution_count": 35,
   "id": "662a4243",
   "metadata": {},
   "outputs": [
    {
     "name": "stdout",
     "output_type": "stream",
     "text": [
      "In-order traversal of binary tree:\n",
      "2 5 7 10 15 20 \n"
     ]
    }
   ],
   "source": [
    "class TreeNode:\n",
    "    def __init__(self, val):\n",
    "        self.val = val\n",
    "        self.left = None\n",
    "        self.right = None\n",
    "\n",
    "# In-order traversal: Left -> Root -> Right\n",
    "def inorder_traversal(root):\n",
    "    if root:\n",
    "        inorder_traversal(root.left)\n",
    "        print(root.val, end=\" \")\n",
    "        inorder_traversal(root.right)\n",
    "\n",
    "# Build a sample tree manually\n",
    "#         10\n",
    "#        /  \\\n",
    "#       5    15\n",
    "#      / \\     \\\n",
    "#     2   7     20\n",
    "root = TreeNode(10)\n",
    "root.left = TreeNode(5)\n",
    "root.right = TreeNode(15)\n",
    "root.left.left = TreeNode(2)\n",
    "root.left.right = TreeNode(7)\n",
    "root.right.right = TreeNode(20)\n",
    "\n",
    "print(\"In-order traversal of binary tree:\")\n",
    "inorder_traversal(root)\n",
    "print()"
   ]
  }
 ],
 "metadata": {
  "kernelspec": {
   "display_name": "Python 3",
   "language": "python",
   "name": "python3"
  },
  "language_info": {
   "codemirror_mode": {
    "name": "ipython",
    "version": 3
   },
   "file_extension": ".py",
   "mimetype": "text/x-python",
   "name": "python",
   "nbconvert_exporter": "python",
   "pygments_lexer": "ipython3",
   "version": "3.9.6"
  }
 },
 "nbformat": 4,
 "nbformat_minor": 5
}
