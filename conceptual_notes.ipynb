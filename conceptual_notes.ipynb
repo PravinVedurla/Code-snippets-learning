{
 "cells": [
  {
   "cell_type": "code",
   "execution_count": 1,
   "id": "99005dc3",
   "metadata": {},
   "outputs": [
    {
     "name": "stdout",
     "output_type": "stream",
     "text": [
      "Modified list (mutable): [1, 2, 3, 100]\n"
     ]
    }
   ],
   "source": [
    "def modify_list(lst):\n",
    "    # Appends 100 to the passed-in list (modifies original list)\n",
    "    lst.append(100)\n",
    "\n",
    "my_list = [1, 2, 3]\n",
    "modify_list(my_list)\n",
    "print(\"Modified list (mutable):\", my_list)  # [1, 2, 3, 100]"
   ]
  },
  {
   "cell_type": "code",
   "execution_count": 9,
   "id": "2b7f5911",
   "metadata": {},
   "outputs": [
    {
     "name": "stdout",
     "output_type": "stream",
     "text": [
      "List comprehension with condition - evens: [0, 1, 2, 3, 4, 5, 6, 7, 8, 9, 10, 11, 12, 13, 14, 15, 16, 17, 18, 19, 20, 21, 22, 23, 24, 25, 26, 27, 28, 29, 30, 31, 32, 33, 34, 35, 36, 37, 38, 39, 40, 41, 42, 43, 44, 45, 46, 47, 48, 49, 50, 51, 52, 53, 54, 55, 56, 57, 58, 59, 60, 61, 62, 63, 64, 65, 66, 67, 68, 69, 70, 71, 72, 73, 74, 75, 76, 77, 78, 79, 80, 81, 82, 83] \n",
      "\n"
     ]
    }
   ],
   "source": [
    "evens = [x for x in range(100) if x * 6 < 500]  # Even numbers from 0 to 9\n",
    "print(\"List comprehension with condition - evens:\", evens, \"\\n\")"
   ]
  },
  {
   "cell_type": "code",
   "execution_count": 13,
   "id": "2635920c",
   "metadata": {},
   "outputs": [
    {
     "data": {
      "text/plain": [
       "['i', 'e', 'f']"
      ]
     },
     "execution_count": 13,
     "metadata": {},
     "output_type": "execute_result"
    }
   ],
   "source": [
    "alphs = ['u', 'i', 'o', 'e', 'f', 'z']\n",
    "[x for x in alphs if x<'o' ]"
   ]
  },
  {
   "cell_type": "code",
   "execution_count": null,
   "id": "0569fa0e",
   "metadata": {},
   "outputs": [
    {
     "data": {
      "text/plain": [
       "[(1, 'b', 'o'), (2, 'a', 'z'), (3, 'c', 'i')]"
      ]
     },
     "execution_count": 23,
     "metadata": {},
     "output_type": "execute_result"
    }
   ],
   "source": [
    "pairs = [(1, 'b', 'o'), (2, 'a', 'z'), (3, 'c', 'i')]\n",
    "\n",
    "[x for x in pairs if x[2]<'z']"
   ]
  },
  {
   "cell_type": "code",
   "execution_count": 30,
   "id": "68d8fd8c",
   "metadata": {},
   "outputs": [
    {
     "name": "stdout",
     "output_type": "stream",
     "text": [
      "Factorial of 5 using reduce + lambda: 120\n"
     ]
    }
   ],
   "source": [
    "from functools import reduce\n",
    "factorial_5 = reduce(lambda x, y: x * y, range(1, 6))\n",
    "print(\"Factorial of 5 using reduce + lambda:\", factorial_5)  # 120"
   ]
  },
  {
   "cell_type": "code",
   "execution_count": null,
   "id": "1e6a87e5",
   "metadata": {},
   "outputs": [],
   "source": []
  }
 ],
 "metadata": {
  "kernelspec": {
   "display_name": "Python 3",
   "language": "python",
   "name": "python3"
  },
  "language_info": {
   "codemirror_mode": {
    "name": "ipython",
    "version": 3
   },
   "file_extension": ".py",
   "mimetype": "text/x-python",
   "name": "python",
   "nbconvert_exporter": "python",
   "pygments_lexer": "ipython3",
   "version": "3.9.6"
  }
 },
 "nbformat": 4,
 "nbformat_minor": 5
}
